{
 "cells": [
  {
   "cell_type": "markdown",
   "id": "f8ebaea6",
   "metadata": {},
   "source": [
    "# Test-Time Scaling Experiments\n",
    "\n",
    "This notebook implements and evaluates different test-time scaling strategies:\n",
    "1. Standard scaling (baseline)\n",
    "2. Quantile transformation\n",
    "3. Robust scaling\n",
    "4. Test-time Z-score\n",
    "5. MinMax scaling"
   ]
  },
  {
   "cell_type": "code",
   "execution_count": null,
   "id": "78680f02",
   "metadata": {},
   "outputs": [],
   "source": [
    "import sys\n",
    "sys.path.append('..')\n",
    "\n",
    "import numpy as np\n",
    "import pandas as pd\n",
    "from utils.preprocessing import ScalingManager\n",
    "import joblib\n",
    "from sklearn.metrics import accuracy_score, classification_report\n",
    "import matplotlib.pyplot as plt\n",
    "import seaborn as sns"
   ]
  },
  {
   "cell_type": "markdown",
   "id": "1cb26ce0",
   "metadata": {},
   "source": [
    "## 1. Load Data and Model"
   ]
  },
  {
   "cell_type": "code",
   "execution_count": null,
   "id": "4a2c043d",
   "metadata": {},
   "outputs": [],
   "source": [
    "# Load the data\n",
    "X_train = np.load('../data/processed/X_train.npy')\n",
    "X_test = np.load('../data/processed/X_test.npy')\n",
    "y_train = np.load('../data/processed/y_train.npy')\n",
    "y_test = np.load('../data/processed/y_test.npy')\n",
    "\n",
    "# Load the trained model\n",
    "model = joblib.load('../data/processed/baseline_model.pkl')"
   ]
  },
  {
   "cell_type": "markdown",
   "id": "4ffdd5a2",
   "metadata": {},
   "source": [
    "## 2. Initialize Scaling Manager"
   ]
  },
  {
   "cell_type": "code",
   "execution_count": null,
   "id": "fb638703",
   "metadata": {},
   "outputs": [],
   "source": [
    "scaling_manager = ScalingManager()\n",
    "\n",
    "# Fit all scalers on training data\n",
    "for scaler_name in ['standard', 'quantile', 'robust', 'minmax']:\n",
    "    scaling_manager.fit_scaler(X_train, scaler_name)"
   ]
  },
  {
   "cell_type": "markdown",
   "id": "5c66d50a",
   "metadata": {},
   "source": [
    "## 3. Evaluate Different Scaling Methods"
   ]
  },
  {
   "cell_type": "code",
   "execution_count": null,
   "id": "4ecfeb88",
   "metadata": {},
   "outputs": [],
   "source": [
    "def evaluate_scaling(X_test_scaled, name):\n",
    "    y_pred = model.predict(X_test_scaled)\n",
    "    accuracy = accuracy_score(y_test, y_pred)\n",
    "    print(f\"\\nResults for {name} scaling:\")\n",
    "    print(f\"Accuracy: {accuracy:.4f}\")\n",
    "    print(\"\\nClassification Report:\")\n",
    "    print(classification_report(y_test, y_pred))\n",
    "    return accuracy\n",
    "\n",
    "results = {}\n",
    "\n",
    "# Evaluate each scaling method\n",
    "for scaler_name in ['standard', 'quantile', 'robust', 'minmax']:\n",
    "    X_test_scaled = scaling_manager.transform(X_test, scaler_name)\n",
    "    results[scaler_name] = evaluate_scaling(X_test_scaled, scaler_name)\n",
    "\n",
    "# Evaluate test-time z-score\n",
    "X_test_zscore = scaling_manager.test_time_zscore(X_test)\n",
    "results['test_time_zscore'] = evaluate_scaling(X_test_zscore, 'test-time z-score')"
   ]
  },
  {
   "cell_type": "markdown",
   "id": "09dab604",
   "metadata": {},
   "source": [
    "## 4. Visualize Results"
   ]
  },
  {
   "cell_type": "code",
   "execution_count": null,
   "id": "da833d6c",
   "metadata": {},
   "outputs": [],
   "source": [
    "# Plot accuracy comparison\n",
    "plt.figure(figsize=(10, 6))\n",
    "methods = list(results.keys())\n",
    "accuracies = list(results.values())\n",
    "\n",
    "plt.bar(methods, accuracies)\n",
    "plt.title('Accuracy Comparison of Different Scaling Methods')\n",
    "plt.xlabel('Scaling Method')\n",
    "plt.ylabel('Accuracy')\n",
    "plt.xticks(rotation=45)\n",
    "plt.tight_layout()\n",
    "plt.show()"
   ]
  },
  {
   "cell_type": "markdown",
   "id": "47826728",
   "metadata": {},
   "source": [
    "## 5. Distribution Analysis"
   ]
  },
  {
   "cell_type": "code",
   "execution_count": null,
   "id": "aeee5fdb",
   "metadata": {},
   "outputs": [],
   "source": [
    "def plot_feature_distributions(feature_idx=0):\n",
    "    plt.figure(figsize=(15, 5))\n",
    "    \n",
    "    # Original distribution\n",
    "    plt.subplot(1, 3, 1)\n",
    "    sns.histplot(X_test[:, feature_idx], kde=True)\n",
    "    plt.title('Original Distribution')\n",
    "    \n",
    "    # Standard scaling\n",
    "    plt.subplot(1, 3, 2)\n",
    "    X_test_standard = scaling_manager.transform(X_test, 'standard')\n",
    "    sns.histplot(X_test_standard[:, feature_idx], kde=True)\n",
    "    plt.title('Standard Scaling')\n",
    "    \n",
    "    # Test-time z-score\n",
    "    plt.subplot(1, 3, 3)\n",
    "    sns.histplot(X_test_zscore[:, feature_idx], kde=True)\n",
    "    plt.title('Test-time Z-score')\n",
    "    \n",
    "    plt.tight_layout()\n",
    "    plt.show()\n",
    "\n",
    "# Plot distributions for first feature\n",
    "plot_feature_distributions(0)"
   ]
  }
 ],
 "metadata": {
  "language_info": {
   "name": "python"
  }
 },
 "nbformat": 4,
 "nbformat_minor": 5
}
