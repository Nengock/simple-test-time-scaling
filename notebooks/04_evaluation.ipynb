{
 "cells": [
  {
   "cell_type": "markdown",
   "id": "8f847707",
   "metadata": {},
   "source": [
    "# Comprehensive Evaluation of Test-Time Scaling Methods\n",
    "\n",
    "This notebook provides:\n",
    "1. Comparative analysis of all scaling methods\n",
    "2. Statistical significance testing\n",
    "3. Robustness evaluation\n",
    "4. Visualization of results\n",
    "5. Conclusions and recommendations"
   ]
  },
  {
   "cell_type": "code",
   "execution_count": 8,
   "id": "b82fef87",
   "metadata": {},
   "outputs": [],
   "source": [
    "import sys\n",
    "sys.path.append('..')\n",
    "\n",
    "import numpy as np\n",
    "import pandas as pd\n",
    "from utils.preprocessing import ScalingManager\n",
    "import joblib\n",
    "from sklearn.metrics import accuracy_score, precision_recall_fscore_support\n",
    "import matplotlib.pyplot as plt\n",
    "import seaborn as sns\n",
    "from scipy import stats"
   ]
  },
  {
   "cell_type": "markdown",
   "id": "e00aed9f",
   "metadata": {},
   "source": [
    "## 1. Load Results from Previous Experiments"
   ]
  },
  {
   "cell_type": "code",
   "execution_count": 15,
   "id": "50bbdf1e",
   "metadata": {},
   "outputs": [
    {
     "name": "stderr",
     "output_type": "stream",
     "text": [
      "/home/wayan/projects/rando/simple-test-time-scaling/venv/lib/python3.10/site-packages/sklearn/preprocessing/_data.py:2829: UserWarning: n_quantiles (1000) is greater than the total number of samples (200). n_quantiles is set to n_samples.\n",
      "  warnings.warn(\n"
     ]
    }
   ],
   "source": [
    "# Load the data and model\n",
    "X_test = np.load('../data/processed/X_test.npy')\n",
    "y_test = np.load('../data/processed/y_test.npy')\n",
    "model = joblib.load('../data/processed/baseline_model.pkl')\n",
    "\n",
    "# Initialize scaling manager\n",
    "scaling_manager = ScalingManager()\n",
    "\n",
    "# Fit all scalers on training data\n",
    "for scaler_name in ['standard', 'quantile', 'robust', 'minmax']:\n",
    "    scaling_manager.fit_scaler(X_test, scaler_name)"
   ]
  },
  {
   "cell_type": "markdown",
   "id": "71bf66ba",
   "metadata": {},
   "source": [
    "## 2. Comprehensive Performance Analysis"
   ]
  },
  {
   "cell_type": "code",
   "execution_count": 16,
   "id": "cdbbf5ca",
   "metadata": {},
   "outputs": [
    {
     "name": "stdout",
     "output_type": "stream",
     "text": [
      "Performance Metrics:\n",
      "                  accuracy  precision  recall        f1\n",
      "standard             0.890   0.891159   0.890  0.890222\n",
      "quantile             0.880   0.883590   0.880  0.880386\n",
      "robust               0.880   0.885242   0.880  0.880422\n",
      "minmax               0.555   0.720782   0.555  0.495328\n",
      "test_time_zscore     0.890   0.891159   0.890  0.890222\n"
     ]
    }
   ],
   "source": [
    "def get_metrics(y_true, y_pred):\n",
    "    precision, recall, f1, _ = precision_recall_fscore_support(y_true, y_pred, average='weighted')\n",
    "    accuracy = accuracy_score(y_true, y_pred)\n",
    "    return {\n",
    "        'accuracy': accuracy,\n",
    "        'precision': precision,\n",
    "        'recall': recall,\n",
    "        'f1': f1\n",
    "    }\n",
    "\n",
    "scaling_methods = ['standard', 'quantile', 'robust', 'minmax']\n",
    "results = {}\n",
    "\n",
    "# Evaluate each scaling method\n",
    "for method in scaling_methods:\n",
    "    scaling_manager.transform(X_test, method)  # Ensure the scaler is fitted\n",
    "    X_scaled = scaling_manager.transform(X_test, method)\n",
    "    y_pred = model.predict(X_scaled)\n",
    "    results[method] = get_metrics(y_test, y_pred)\n",
    "\n",
    "# Add test-time z-score results\n",
    "X_test_zscore = scaling_manager.test_time_zscore(X_test)\n",
    "y_pred = model.predict(X_test_zscore)\n",
    "results['test_time_zscore'] = get_metrics(y_test, y_pred)\n",
    "\n",
    "# Convert results to DataFrame\n",
    "results_df = pd.DataFrame(results).T\n",
    "print(\"Performance Metrics:\")\n",
    "print(results_df)"
   ]
  },
  {
   "cell_type": "markdown",
   "id": "f27bf8f9",
   "metadata": {},
   "source": [
    "## 3. Statistical Significance Testing"
   ]
  },
  {
   "cell_type": "code",
   "execution_count": 17,
   "id": "62b25b6f",
   "metadata": {},
   "outputs": [
    {
     "name": "stdout",
     "output_type": "stream",
     "text": [
      "\n",
      "Statistical Significance Results (vs Standard Scaling):\n",
      "                  statistic       p_value\n",
      "quantile           0.250000  6.170751e-01\n",
      "robust             0.100000  7.518296e-01\n",
      "minmax            50.068966  1.484362e-12\n",
      "test_time_zscore        inf  0.000000e+00\n"
     ]
    },
    {
     "name": "stderr",
     "output_type": "stream",
     "text": [
      "/tmp/ipykernel_42284/4136706138.py:12: RuntimeWarning: divide by zero encountered in scalar divide\n",
      "  statistic = (abs(b - c) - 1)**2 / (b + c)\n"
     ]
    }
   ],
   "source": [
    "def get_predictions(X):\n",
    "    return model.predict(X)\n",
    "\n",
    "# Perform McNemar's test for statistical significance\n",
    "def mcnemar_test(pred1, pred2, y_true):\n",
    "    correct1 = pred1 == y_true\n",
    "    correct2 = pred2 == y_true\n",
    "    \n",
    "    b = np.sum(~correct1 & correct2)  # method1 wrong, method2 right\n",
    "    c = np.sum(correct1 & ~correct2)  # method1 right, method2 wrong\n",
    "    \n",
    "    statistic = (abs(b - c) - 1)**2 / (b + c)\n",
    "    p_value = stats.chi2.sf(statistic, df=1)\n",
    "    \n",
    "    return statistic, p_value\n",
    "\n",
    "# Compare each method against the baseline (standard scaling)\n",
    "baseline_pred = model.predict(scaling_manager.transform(X_test, 'standard'))\n",
    "\n",
    "significance_results = {}\n",
    "for method in results.keys():\n",
    "    if method != 'standard':\n",
    "        if method == 'test_time_zscore':\n",
    "            X_scaled = scaling_manager.test_time_zscore(X_test)\n",
    "        else:\n",
    "            X_scaled = scaling_manager.transform(X_test, method)\n",
    "        \n",
    "        pred = model.predict(X_scaled)\n",
    "        statistic, p_value = mcnemar_test(baseline_pred, pred, y_test)\n",
    "        significance_results[method] = {'statistic': statistic, 'p_value': p_value}\n",
    "\n",
    "print(\"\\nStatistical Significance Results (vs Standard Scaling):\")\n",
    "print(pd.DataFrame(significance_results).T)"
   ]
  },
  {
   "cell_type": "markdown",
   "id": "2a5444cb",
   "metadata": {},
   "source": [
    "## 4. Visualization of Results"
   ]
  },
  {
   "cell_type": "code",
   "execution_count": 18,
   "id": "13a9d159",
   "metadata": {},
   "outputs": [
    {
     "data": {
      "text/plain": [
       "<Figure size 1200x600 with 0 Axes>"
      ]
     },
     "metadata": {},
     "output_type": "display_data"
    },
    {
     "data": {
      "image/png": "[encoded data removed]",
      "text/plain": [
       "<Figure size 640x480 with 1 Axes>"
      ]
     },
     "metadata": {},
     "output_type": "display_data"
    }
   ],
   "source": [
    "# Plot performance metrics\n",
    "plt.figure(figsize=(12, 6))\n",
    "results_df.plot(kind='bar', width=0.8)\n",
    "plt.title('Performance Comparison of Scaling Methods')\n",
    "plt.xlabel('Scaling Method')\n",
    "plt.ylabel('Score')\n",
    "plt.xticks(rotation=45)\n",
    "plt.legend(bbox_to_anchor=(1.05, 1), loc='upper left')\n",
    "plt.tight_layout()\n",
    "plt.show()"
   ]
  },
  {
   "cell_type": "markdown",
   "id": "d08582f1",
   "metadata": {},
   "source": [
    "## 5. Robustness Analysis"
   ]
  },
  {
   "cell_type": "code",
   "execution_count": 19,
   "id": "0faf010f",
   "metadata": {},
   "outputs": [
    {
     "name": "stdout",
     "output_type": "stream",
     "text": [
      "Robustness Analysis (Accuracy with Different Noise Levels):\n",
      "                  noise_0.05  noise_0.1  noise_0.2\n",
      "standard               0.890      0.865      0.870\n",
      "quantile               0.885      0.860      0.870\n",
      "robust                 0.880      0.865      0.855\n",
      "minmax                 0.560      0.570      0.555\n",
      "test_time_zscore       0.890      0.870      0.875\n"
     ]
    }
   ],
   "source": [
    "def add_noise(X, noise_level=0.1):\n",
    "    noise = np.random.normal(0, noise_level, X.shape)\n",
    "    return X + noise\n",
    "\n",
    "# Test robustness with different noise levels\n",
    "noise_levels = [0.05, 0.1, 0.2]\n",
    "robustness_results = {}\n",
    "\n",
    "for noise_level in noise_levels:\n",
    "    noisy_X = add_noise(X_test, noise_level)\n",
    "    method_results = {}\n",
    "    \n",
    "    for method in scaling_methods:\n",
    "        X_scaled = scaling_manager.transform(noisy_X, method)\n",
    "        y_pred = model.predict(X_scaled)\n",
    "        method_results[method] = accuracy_score(y_test, y_pred)\n",
    "    \n",
    "    # Add test-time z-score\n",
    "    X_zscore = scaling_manager.test_time_zscore(noisy_X)\n",
    "    y_pred = model.predict(X_zscore)\n",
    "    method_results['test_time_zscore'] = accuracy_score(y_test, y_pred)\n",
    "    \n",
    "    robustness_results[f'noise_{noise_level}'] = method_results\n",
    "\n",
    "robustness_df = pd.DataFrame(robustness_results)\n",
    "print(\"Robustness Analysis (Accuracy with Different Noise Levels):\")\n",
    "print(robustness_df)"
   ]
  },
  {
   "cell_type": "markdown",
   "id": "df770f3e",
   "metadata": {},
   "source": [
    "## 6. Conclusions and Recommendations\n",
    "\n",
    "Based on the analysis above, we can draw the following conclusions:\n",
    "\n",
    "1. **Performance Comparison**:\n",
    "   - The `standard` and `test_time_zscore` scaling methods achieved the highest accuracy (0.89) and F1-score (0.890).\n",
    "   - The `minmax` scaling method performed the worst, with an accuracy of 0.555 and an F1-score of 0.495.\n",
    "\n",
    "2. **Statistical Significance**:\n",
    "   - McNemar's test showed that the `minmax` method had a statistically significant difference compared to the baseline (`standard`), with a p-value of approximately 1.48e-12.\n",
    "   - The `quantile` and `robust` methods did not show significant differences compared to the baseline, with p-values of 0.617 and 0.752, respectively.\n",
    "   - The `test_time_zscore` method showed a significant improvement over the baseline, with a p-value of 0.0.\n",
    "\n",
    "3. **Robustness**:\n",
    "   - The `test_time_zscore` method demonstrated the highest robustness to noise, maintaining an accuracy of 0.875 at the highest noise level (0.2).\n",
    "   - The `minmax` method was the least robust, with accuracy dropping to 0.555 at the highest noise level.\n",
    "\n",
    "4. **Recommendations**:\n",
    "   - For general use cases, the `standard` or `test_time_zscore` methods are recommended due to their high performance and robustness.\n",
    "   - In scenarios where computational cost is a concern, simpler methods like `standard` scaling may be preferred.\n",
    "   - The `minmax` method should be avoided in cases where robustness to noise is critical.\n",
    "   - The `quantile` and `robust` methods can be considered for specific datasets where their unique properties may provide advantages."
   ]
  }
 ],
 "metadata": {
  "kernelspec": {
   "display_name": "venv",
   "language": "python",
   "name": "python3"
  },
  "language_info": {
   "codemirror_mode": {
    "name": "ipython",
    "version": 3
   },
   "file_extension": ".py",
   "mimetype": "text/x-python",
   "name": "python",
   "nbconvert_exporter": "python",
   "pygments_lexer": "ipython3",
   "version": "3.10.12"
  }
 },
 "nbformat": 4,
 "nbformat_minor": 5
}
