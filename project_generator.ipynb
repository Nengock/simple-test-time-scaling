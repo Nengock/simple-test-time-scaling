{
 "cells": [
  {
   "cell_type": "markdown",
   "id": "1ab1863a",
   "metadata": {},
   "source": [
    "# Project Generator Notebook\n",
    "This notebook reads a project description from JSON and generates the corresponding project structure and files."
   ]
  },
  {
   "cell_type": "markdown",
   "id": "65ab6573",
   "metadata": {},
   "source": [
    "## Load Project Description\n",
    "First, we'll load and parse the project description from the JSON file."
   ]
  },
  {
   "cell_type": "code",
   "execution_count": null,
   "id": "8b8e076e",
   "metadata": {},
   "outputs": [],
   "source": [
    "import json\n",
    "import os\n",
    "from pathlib import Path\n",
    "\n",
    "# Read the project description file\n",
    "with open('project-description.json', 'r') as f:\n",
    "    project_description = json.load(f)\n",
    "\n",
    "print(\"Loaded project description:\", json.dumps(project_description, indent=2))"
   ]
  },
  {
   "cell_type": "markdown",
   "id": "48cb249f",
   "metadata": {},
   "source": [
    "## Create Folder Structure\n",
    "Now we'll create the necessary folder structure based on the project description."
   ]
  },
  {
   "cell_type": "code",
   "execution_count": null,
   "id": "31115bb4",
   "metadata": {},
   "outputs": [],
   "source": [
    "def create_folder_structure(project_description):\n",
    "    # Common folders for Python projects\n",
    "    base_folders = ['src', 'tests', 'docs', 'data']\n",
    "    \n",
    "    for folder in base_folders:\n",
    "        Path(folder).mkdir(exist_ok=True)\n",
    "        print(f\"Created folder: {folder}\")\n",
    "    \n",
    "    # Create any additional folders specified in the project description\n",
    "    if 'folders' in project_description:\n",
    "        for folder in project_description['folders']:\n",
    "            Path(folder).mkdir(exist_ok=True)\n",
    "            print(f\"Created folder: {folder}\")\n",
    "\n",
    "create_folder_structure(project_description)"
   ]
  },
  {
   "cell_type": "markdown",
   "id": "bab3e9ab",
   "metadata": {},
   "source": [
    "## Generate Files\n",
    "Create all necessary files with initial content based on the project description."
   ]
  },
  {
   "cell_type": "code",
   "execution_count": null,
   "id": "97df1dae",
   "metadata": {},
   "outputs": [],
   "source": [
    "def generate_files(project_description):\n",
    "    # Generate basic Python project files\n",
    "    files = {\n",
    "        'src/__init__.py': '',\n",
    "        'tests/__init__.py': '',\n",
    "        'requirements.txt': '',\n",
    "        'setup.py': '''from setuptools import setup, find_packages\n",
    "\n",
    "setup(\n",
    "    name=\"project-name\",\n",
    "    version=\"0.1.0\",\n",
    "    packages=find_packages(),\n",
    "    install_requires=[],\n",
    ")'''\n",
    "    }\n",
    "    \n",
    "    # Create files specified in project description\n",
    "    if 'files' in project_description:\n",
    "        for file_info in project_description['files']:\n",
    "            file_path = file_info['path']\n",
    "            content = file_info.get('content', '')\n",
    "            files[file_path] = content\n",
    "    \n",
    "    # Write all files\n",
    "    for file_path, content in files.items():\n",
    "        Path(file_path).parent.mkdir(exist_ok=True)\n",
    "        with open(file_path, 'w') as f:\n",
    "            f.write(content)\n",
    "        print(f\"Generated file: {file_path}\")\n",
    "\n",
    "generate_files(project_description)"
   ]
  },
  {
   "cell_type": "markdown",
   "id": "68c60102",
   "metadata": {},
   "source": [
    "## Update README\n",
    "Finally, we'll generate or update the README.md file with project information."
   ]
  }
 ],
 "metadata": {
  "language_info": {
   "name": "python"
  }
 },
 "nbformat": 4,
 "nbformat_minor": 5
}
